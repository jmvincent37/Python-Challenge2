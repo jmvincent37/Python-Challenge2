{
 "cells": [
  {
   "cell_type": "code",
   "execution_count": 2,
   "id": "0ff16352",
   "metadata": {},
   "outputs": [
    {
     "name": "stdout",
     "output_type": "stream",
     "text": [
      "Election Results\n",
      "___________________________________\n",
      "Total Votes: 369,711\n",
      "___________________________________\n",
      "Charles Casper Stockham: 23% 85,213\n",
      "Diana DeGette: 73% 272,892\n",
      "Raymon Anthony Doane: 3% 11,606\n",
      "___________________________________\n",
      "Winner: Diana DeGette\n",
      "___________________________________\n"
     ]
    }
   ],
   "source": [
    "#import operating system\n",
    "import os\n",
    "\n",
    "#import csv file\n",
    "import csv\n",
    "\n",
    "#create list of variables for vote counts\n",
    "candidates = []\n",
    "num_votes = 0\n",
    "vote_counts = []\n",
    "\n",
    "#set path\n",
    "pypoll_csv = os.path.join('../resources','election_data.csv')\n",
    "\n",
    "#open the csv\n",
    "with open(pypoll_csv,newline=\"\") as csvfile:\n",
    "    csvreader = csv.reader(csvfile)\n",
    "\n",
    "    #skip the header\n",
    "    line = next(csvreader,None)\n",
    "\n",
    "    #line by line counting of votes for each candidate\n",
    "    for line in csvreader:\n",
    "        num_votes = num_votes + 1\n",
    "        candidate = line[2]\n",
    "\n",
    "        #if candidate has other votes then add to vote count\n",
    "        if candidate in candidates:\n",
    "            candidate_index = candidates.index(candidate)\n",
    "            vote_counts[candidate_index] = vote_counts[candidate_index] + 1\n",
    "        #else create new spot in list for candidate\n",
    "        else:\n",
    "            candidates.append(candidate)\n",
    "            vote_counts.append(1)\n",
    "\n",
    "#create list of variables for percentage calculations\n",
    "percentages = []\n",
    "max_votes = vote_counts[0]\n",
    "max_index = 0\n",
    "\n",
    "#determine the percentage of votes for all cadidates and the winner\n",
    "for count in range(len(candidates)):\n",
    "    vote_percentage = vote_counts[count]/num_votes*100\n",
    "    percentages.append(vote_percentage)\n",
    "    if vote_counts[count] > max_votes:\n",
    "        max_votes = vote_counts[count]\n",
    "        max_index = count\n",
    "winner = candidates[max_index]\n",
    "\n",
    "#header and line seperator\n",
    "print(\"Election Results\")\n",
    "print(\"_\"*35)\n",
    "\n",
    "#total votes (add comma) and line seperator\n",
    "print(f\"Total Votes: {num_votes:,d}\")\n",
    "print(\"_\"*35)\n",
    "\n",
    "#candidate name, vote percentage (change from list to int), and number of votes (add comma) and line seperator\n",
    "for count in range(len(candidates)):\n",
    "    print(f\"{candidates[count]}: {int(percentages[count])}% {vote_counts[count]:,d}\")\n",
    "print(\"_\"*35)\n",
    "\n",
    "#winner of the election and line seperator\n",
    "print(f\"Winner: {winner}\")\n",
    "print(\"_\"*35)\n",
    "\n",
    "\n"
   ]
  },
  {
   "cell_type": "code",
   "execution_count": 36,
   "id": "4eae1786",
   "metadata": {},
   "outputs": [],
   "source": [
    "\n",
    "\n",
    "#create and open txt file\n",
    "with open('readme.txt','w') as f:\n",
    "    f.write('readme')\n",
    "\n",
    "#print final analysis to file\n",
    "    f.write(\"Election Results\\n\")\n",
    "    f.write(\"__________________________________\\n\")\n",
    "    f.write(f\"Total Votes: {num_votes:,d}\\n\")\n",
    "    for count in range(len(candidates)):\n",
    "        f.write(f\"{candidates[count]}: {int(percentages[count])}% {vote_counts[count]:,d}\\n\")\n",
    "        f.write(\"__________________________________\\n\")\n",
    "        f.write(f\"Winner: {winner}\\n\")\n",
    "        f.write(\"__________________________________\\n\")\n",
    "\n",
    "#close file\n",
    "#f.write.close()"
   ]
  },
  {
   "cell_type": "code",
   "execution_count": null,
   "id": "6a2ff49b",
   "metadata": {},
   "outputs": [],
   "source": [
    "\n"
   ]
  },
  {
   "cell_type": "code",
   "execution_count": null,
   "id": "0a61aa1a",
   "metadata": {},
   "outputs": [],
   "source": []
  }
 ],
 "metadata": {
  "kernelspec": {
   "display_name": "Python 3 (ipykernel)",
   "language": "python",
   "name": "python3"
  },
  "language_info": {
   "codemirror_mode": {
    "name": "ipython",
    "version": 3
   },
   "file_extension": ".py",
   "mimetype": "text/x-python",
   "name": "python",
   "nbconvert_exporter": "python",
   "pygments_lexer": "ipython3",
   "version": "3.9.13"
  },
  "vscode": {
   "interpreter": {
    "hash": "aab1f3de28fbda499db4cbe4a78e516c2b5291cf920cbe071935b5aa1d460cae"
   }
  }
 },
 "nbformat": 4,
 "nbformat_minor": 5
}
