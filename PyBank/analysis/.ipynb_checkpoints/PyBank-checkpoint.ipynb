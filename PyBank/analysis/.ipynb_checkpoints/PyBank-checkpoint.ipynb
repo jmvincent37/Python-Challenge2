{
 "cells": [
  {
   "cell_type": "code",
   "execution_count": 11,
   "id": "1fa25a73",
   "metadata": {},
   "outputs": [
    {
     "name": "stdout",
     "output_type": "stream",
     "text": [
      "Financial Analysis\n",
      "___________________________________\n",
      "Total Months:86\n",
      "Total:$22564198\n",
      "Average Change:$-8311.11\n",
      "Greatest Increase in Profits: 16-Aug ($1862002)\n",
      "Greatest Decrease in Profits: 14-Feb ($-1825558)\n"
     ]
    }
   ],
   "source": [
    "import os.path\n",
    "\n",
    "#get the name of the current directory\n",
    "current_dir=os.getcwd()\n",
    "\n",
    "\n",
    "#import csv file\n",
    "import csv\n",
    "\n",
    "#set path\n",
    "\n",
    "budget_data = os.path.join('../resources','budget_data.csv')\n",
    "# open and read csv\n",
    "with open(budget_data, newline=\"\") as csvfile:\n",
    "    csvreader = csv.reader(csvfile, delimiter=',')\n",
    "    csv_header = next(csvreader)\n",
    "    \n",
    "    \n",
    "    #establish variables\n",
    "    profit = []\n",
    "    months = []\n",
    "    revenue_change =[]\n",
    "\n",
    "    #read each row of data after header\n",
    "    for rows in csvreader:\n",
    "        profit.append(int(rows[1]))\n",
    "        months.append(rows[0])\n",
    "\n",
    "    #for loop appending the revenue change list using range function\n",
    "    for v in range(1, len(profit)):\n",
    "        revenue_change.append((int(profit[v]) - int(profit[v-1])))\n",
    "\n",
    "    #calculate average revenue change and use rounding function with 2 decimals\n",
    "    revenue_average_change = sum(revenue_change) / len(revenue_change)\n",
    "    revenue_average = round(revenue_average_change, 2)\n",
    "\n",
    "    #determine the total number of months\n",
    "    total_months = len(months)\n",
    "    #print(total_months)\n",
    "\n",
    "    #greatest increase in revenue\n",
    "    greatest_increase = max(revenue_change)\n",
    "    #print(greatest_increase)\n",
    "\n",
    "    #greatest decrease in revenue\n",
    "    greatest_decrease = min(revenue_change)\n",
    "    #print(greatest_decrease)\n",
    "    \n",
    "    \n",
    "    #print results\n",
    "    print(\"Financial Analysis\")\n",
    "    print(\"_\"*35)\n",
    "    print(\"Total Months:\" + str(total_months))\n",
    "    print(\"Total:\" + \"$\" + str(sum(profit)))\n",
    "    print(\"Average Change:\" + \"$\" + str(revenue_average))\n",
    "    print(\"Greatest Increase in Profits: \" + str(months[revenue_change.index(max(revenue_change))+1]) + \" \" + \"($\" + str(greatest_increase) + \")\")\n",
    "    print(\"Greatest Decrease in Profits: \" + str(months[revenue_change.index(min(revenue_change))+1]) + \" \" + \"($\" + str(greatest_decrease) + \")\")\n",
    "\n",
    "    #create and open txt file\n",
    "    with open('readme.txt','w') as f:\n",
    "        f.write(f\"Financial Analysis\\n\")\n",
    "        \n",
    "        #f.write(\"Financial Analysis\\n\")\n",
    "        f.write(f\"___________________________________\"\"\\n\")\n",
    "        f.write(f\"Total Months:\" + str(total_months))\n",
    "        f.write(\"\\n\")\n",
    "        f.write(f\"Total:\" + \"$\" + str(sum(profit)))\n",
    "        f.write(\"\\n\")\n",
    "        f.write(\"Average Change:\" + \"$\" + str(revenue_average))\n",
    "        f.write(\"\\n\")\n",
    "        f.write(\"Greatest Increase in Profits: \" + str(months[revenue_change.index(max(revenue_change))+1]) + \" \" + \"($\" + str(greatest_increase) + \")\")\n",
    "        f.write(\"\\n\")\n",
    "        f.write(\"Greatest Decrease in Profits: \" + str(months[revenue_change.index(min(revenue_change))+1]) + \" \" + \"($\" + str(greatest_decrease) + \")\")"
   ]
  },
  {
   "cell_type": "code",
   "execution_count": null,
   "id": "198df410",
   "metadata": {},
   "outputs": [],
   "source": []
  }
 ],
 "metadata": {
  "kernelspec": {
   "display_name": "Python 3 (ipykernel)",
   "language": "python",
   "name": "python3"
  },
  "language_info": {
   "codemirror_mode": {
    "name": "ipython",
    "version": 3
   },
   "file_extension": ".py",
   "mimetype": "text/x-python",
   "name": "python",
   "nbconvert_exporter": "python",
   "pygments_lexer": "ipython3",
   "version": "3.9.13"
  }
 },
 "nbformat": 4,
 "nbformat_minor": 5
}
